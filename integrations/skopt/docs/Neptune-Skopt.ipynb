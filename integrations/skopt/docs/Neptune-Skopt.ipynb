{
 "cells": [
  {
   "cell_type": "markdown",
   "metadata": {
    "id": "G4ny3mHCFrqG",
    "tags": [
     "header"
    ]
   },
   "source": [
    "# Neptune + Scikit-Optimize"
   ]
  },
  {
   "cell_type": "markdown",
   "metadata": {
    "id": "8iu66Yz2SIWz",
    "tags": [
     "header"
    ]
   },
   "source": [
    "## Before you start"
   ]
  },
  {
   "cell_type": "markdown",
   "metadata": {
    "id": "xndcBi_EUFVi",
    "tags": [
     "installation"
    ]
   },
   "source": [
    "### Install dependencies"
   ]
  },
  {
   "cell_type": "code",
   "execution_count": null,
   "metadata": {
    "id": "4sYeJcOEZvXy",
    "tags": [
     "installation"
    ]
   },
   "outputs": [],
   "source": [
    "! pip install --quiet scikit-optimize==0.8.1 neptune-client==0.4.130 neptune-contrib['monitoring']==0.25.0"
   ]
  },
  {
   "cell_type": "markdown",
   "metadata": {
    "id": "c3YRPmiyiVw8",
    "tags": [
     "header"
    ]
   },
   "source": [
    "### Create a sample objective function for skopt"
   ]
  },
  {
   "cell_type": "code",
   "execution_count": null,
   "metadata": {},
   "outputs": [],
   "source": [
    "import skopt\n",
    "import lightgbm as lgb\n",
    "from sklearn.datasets import load_breast_cancer\n",
    "from sklearn.metrics import roc_auc_score\n",
    "from sklearn.model_selection import train_test_split\n",
    "\n",
    "space = [skopt.space.Real(0.01, 0.5, name='learning_rate', prior='log-uniform'),\n",
    "          skopt.space.Integer(1, 30, name='max_depth'),\n",
    "          skopt.space.Integer(2, 100, name='num_leaves'),\n",
    "          skopt.space.Integer(10, 1000, name='min_data_in_leaf'),\n",
    "          skopt.space.Real(0.1, 1.0, name='feature_fraction', prior='uniform'),\n",
    "          skopt.space.Real(0.1, 1.0, name='subsample', prior='uniform'),\n",
    "          ]\n",
    "\n",
    "@skopt.utils.use_named_args(space)\n",
    "def objective(**params):\n",
    "    data, target = load_breast_cancer(return_X_y=True)\n",
    "    train_x, test_x, train_y, test_y = train_test_split(data, target, test_size=0.25)\n",
    "    dtrain = lgb.Dataset(train_x, label=train_y)\n",
    "\n",
    "    param = {\n",
    "        'objective': 'binary',\n",
    "        'metric': 'binary_logloss',\n",
    "        'verbosity':-1,\n",
    "        **params\n",
    "    }\n",
    "\n",
    "    gbm = lgb.train(param, dtrain)\n",
    "    preds = gbm.predict(test_x)\n",
    "    accuracy = roc_auc_score(test_y, preds)\n",
    "    return -1.0 * accuracy"
   ]
  },
  {
   "cell_type": "markdown",
   "metadata": {
    "id": "axBFfUNhwGx5",
    "tags": [
     "header"
    ]
   },
   "source": [
    "## Quickstart"
   ]
  },
  {
   "cell_type": "markdown",
   "metadata": {
    "id": "If9d2A8zUynE",
    "tags": [
     "header"
    ]
   },
   "source": [
    "### Step 1: Initialize Neptune"
   ]
  },
  {
   "cell_type": "code",
   "execution_count": null,
   "metadata": {
    "id": "wGuFr2AaU7XF",
    "tags": [
     "code"
    ]
   },
   "outputs": [],
   "source": [
    "import neptune\r\n",
    "\r\n",
    "neptune.init(api_token='ANONYMOUS', project_qualified_name='shared/scikit-optimize-integration')"
   ]
  },
  {
   "cell_type": "markdown",
   "metadata": {
    "tags": [
     "header"
    ]
   },
   "source": [
    "### Step 2: Create an Experiment"
   ]
  },
  {
   "cell_type": "code",
   "execution_count": null,
   "metadata": {
    "id": "HdsYsx0zlBNy",
    "tags": [
     "code"
    ]
   },
   "outputs": [],
   "source": [
    "neptune.create_experiment(name='skopt-sweep')"
   ]
  },
  {
   "cell_type": "markdown",
   "metadata": {
    "tags": [
     "header"
    ]
   },
   "source": [
    "### Step 3: Run skopt with the Neptune Callback"
   ]
  },
  {
   "cell_type": "code",
   "execution_count": null,
   "metadata": {
    "id": "_2KNcCRgdF9Z",
    "tags": [
     "code"
    ]
   },
   "outputs": [],
   "source": [
    "# Create Neptune Callback\r\n",
    "import neptunecontrib.monitoring.skopt as skopt_utils\r\n",
    "\r\n",
    "neptune_callback = skopt_utils.NeptuneCallback()"
   ]
  },
  {
   "cell_type": "code",
   "execution_count": null,
   "metadata": {
    "id": "PKqjcblYdd1U",
    "tags": [
     "code"
    ]
   },
   "outputs": [],
   "source": [
    "# Run the skopt minimize function with the Neptune Callback\r\n",
    "results = skopt.forest_minimize(objective, space, n_calls=25, n_random_starts=10,\r\n",
    "                                callback=[neptune_callback])"
   ]
  },
  {
   "cell_type": "markdown",
   "metadata": {},
   "source": [
    "### Step 4: Log best parameter configuration, best score and diagnostic plots"
   ]
  },
  {
   "cell_type": "code",
   "execution_count": null,
   "metadata": {
    "id": "wo6dD522izbu",
    "tags": [
     "code"
    ]
   },
   "outputs": [],
   "source": [
    "skopt_utils.log_results(results)"
   ]
  },
  {
   "cell_type": "markdown",
   "metadata": {},
   "source": [
    "### Step 5: Stop logging and Explore results in the Neptune UI"
   ]
  },
  {
   "cell_type": "code",
   "execution_count": null,
   "metadata": {
    "id": "__iDgMetbbkC",
    "tags": [
     "code"
    ]
   },
   "outputs": [],
   "source": [
    "neptune.stop()"
   ]
  },
  {
   "cell_type": "code",
   "execution_count": null,
   "metadata": {},
   "outputs": [],
   "source": []
  }
 ],
 "metadata": {
  "colab": {
   "collapsed_sections": [],
   "name": "Neptune-Skopt.ipynb",
   "private_outputs": true,
   "provenance": [],
   "toc_visible": true
  },
  "kernelspec": {
   "display_name": "Python 3",
   "language": "python",
   "name": "python3"
  },
  "language_info": {
   "codemirror_mode": {
    "name": "ipython",
    "version": 3
   },
   "file_extension": ".py",
   "mimetype": "text/x-python",
   "name": "python",
   "nbconvert_exporter": "python",
   "pygments_lexer": "ipython3",
   "version": "3.7.7"
  }
 },
 "nbformat": 4,
 "nbformat_minor": 4
}
